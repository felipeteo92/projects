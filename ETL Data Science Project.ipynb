{
 "cells": [
  {
   "cell_type": "code",
   "execution_count": 1,
   "id": "e00a95ac-704c-4178-85b2-c7890a5060e7",
   "metadata": {},
   "outputs": [],
   "source": [
    "import pandas as pd\n",
    "\n",
    "df = pd.read_csv(r\"C:\\Users\\felip\\OneDrive\\Área de Trabalho\\Pós Graduação - Ciência de Dados\\Projeto Aplicado\\Base de Dados\\base_dados.csv\", sep=';', encoding='latin-1')"
   ]
  },
  {
   "cell_type": "code",
   "execution_count": 2,
   "id": "0d7ed1f1-da0a-426a-856c-cba22585bd8b",
   "metadata": {},
   "outputs": [],
   "source": [
    "df = df.rename(columns={\"Job Id\": \"id_vaga\", \"Experience\":\"tempo_experiencia\", \"Qualifications\": \"formacao\", \"Salary Range (Mín)\": \"salario_min\",\n",
    "                       \"Salary Range (Max)\": \"salario_max\", \"location\": \"cidade\", \"Country\":\"pais\", \"Work Type\": \"tipo_trabalho\", \"Company Size\": \"tamanho_empresa\",\n",
    "                       \"Job Posting Date\":\"data_vaga\", \"Preference\":\"sexo\", \"Contact Person\":\"nome_recrutador\",\"Contact\":\"contato_recrutador\",\n",
    "                       \"Job Title\":\"titulo_vaga\", \"Role\":\"funcao\", \"Job Portal\":\"site_vaga\",\"Job Description\":\"descricao_vaga\", \"skills\":\"requisitos\",\n",
    "                       \"Responsibilities\": \"responsabilidades\", \"Company\":\"empresa\", \"Benefits\":\"beneficios\", \"Company Profile\":\"perfil_empresa\"})"
   ]
  },
  {
   "cell_type": "code",
   "execution_count": 3,
   "id": "f924ac07-8b62-43a2-8afe-d5b56260956d",
   "metadata": {
    "scrolled": true
   },
   "outputs": [
    {
     "data": {
      "text/plain": [
       "0        'Tuition Reimbursement, Stock Options or Equit...\n",
       "1        'Childcare Assistance, Paid Time Off (PTO), Re...\n",
       "2        'Employee Assistance Programs (EAP), Tuition R...\n",
       "3        'Employee Referral Programs, Financial Counsel...\n",
       "4        'Childcare Assistance, Paid Time Off (PTO), Re...\n",
       "                               ...                        \n",
       "73000    'Childcare Assistance, Paid Time Off (PTO), Re...\n",
       "73001    'Employee Referral Programs, Financial Counsel...\n",
       "73002    'Employee Referral Programs, Financial Counsel...\n",
       "73003    'Life and Disability Insurance, Stock Options ...\n",
       "73004    'Transportation Benefits, Professional Develop...\n",
       "Name: beneficios, Length: 73005, dtype: object"
      ]
     },
     "execution_count": 3,
     "metadata": {},
     "output_type": "execute_result"
    }
   ],
   "source": [
    "df['beneficios'] = df['beneficios'].str.replace(\"{\", \"\", regex=False).str.replace(\"}\", \"\", regex=False)\n",
    "df['beneficios']"
   ]
  },
  {
   "cell_type": "code",
   "execution_count": 4,
   "id": "12343f0b-0203-4b0b-bd01-dff8f5031d7a",
   "metadata": {},
   "outputs": [],
   "source": [
    "df = df.drop('perfil_empresa', axis = 1)"
   ]
  },
  {
   "cell_type": "code",
   "execution_count": 5,
   "id": "3b044374-a9aa-4044-91f0-b04e0289044d",
   "metadata": {},
   "outputs": [],
   "source": [
    "df['salario_min'] = df['salario_min'].str.replace('$', '', regex=False)\n",
    "df['salario_max'] = df['salario_max'].str.replace('$', '', regex=False)\n",
    "\n",
    "df['salario_min'] = df['salario_min'].str.replace('.', '', regex=False)\n",
    "df['salario_max'] = df['salario_max'].str.replace('.', '', regex=False)\n",
    "\n",
    "df['salario_min'] = df['salario_min'].str.replace(',00', '', regex=False)\n",
    "df['salario_max'] = df['salario_max'].str.replace(',00', '', regex=False)"
   ]
  },
  {
   "cell_type": "code",
   "execution_count": 6,
   "id": "90bb830a-6356-409a-a900-1d753593b127",
   "metadata": {},
   "outputs": [],
   "source": [
    "df['salario_min'] = df['salario_min'].astype(float)\n",
    "df['salario_max'] = df['salario_max'].astype(float)\n",
    "\n",
    "df['data_vaga'] = pd.to_datetime(df['data_vaga'], format='%d/%m/%Y')"
   ]
  },
  {
   "cell_type": "code",
   "execution_count": 7,
   "id": "7363a0c8-b1e2-41db-92b7-76938e4e59a2",
   "metadata": {},
   "outputs": [
    {
     "data": {
      "text/plain": [
       "id_vaga               0\n",
       "tempo_experiencia     0\n",
       "formacao              0\n",
       "salario_min           0\n",
       "salario_max           0\n",
       "cidade                0\n",
       "pais                  0\n",
       "tipo_trabalho         0\n",
       "tamanho_empresa       0\n",
       "data_vaga             0\n",
       "sexo                  0\n",
       "nome_recrutador       0\n",
       "contato_recrutador    0\n",
       "titulo_vaga           0\n",
       "funcao                0\n",
       "site_vaga             0\n",
       "descricao_vaga        0\n",
       "beneficios            0\n",
       "requisitos            0\n",
       "responsabilidades     0\n",
       "empresa               0\n",
       "dtype: int64"
      ]
     },
     "execution_count": 7,
     "metadata": {},
     "output_type": "execute_result"
    }
   ],
   "source": [
    "df.isna().sum()"
   ]
  },
  {
   "cell_type": "code",
   "execution_count": 8,
   "id": "32c19575-d133-4fbf-98b6-5dc9b9268855",
   "metadata": {},
   "outputs": [
    {
     "data": {
      "text/plain": [
       "0"
      ]
     },
     "execution_count": 8,
     "metadata": {},
     "output_type": "execute_result"
    }
   ],
   "source": [
    "df.duplicated().sum()"
   ]
  },
  {
   "cell_type": "code",
   "execution_count": 9,
   "id": "2c2c6ebb-a703-43b2-8a7f-87148c632b4d",
   "metadata": {},
   "outputs": [
    {
     "name": "stdout",
     "output_type": "stream",
     "text": [
      "<class 'pandas.core.frame.DataFrame'>\n",
      "RangeIndex: 73005 entries, 0 to 73004\n",
      "Data columns (total 21 columns):\n",
      " #   Column              Non-Null Count  Dtype         \n",
      "---  ------              --------------  -----         \n",
      " 0   id_vaga             73005 non-null  int64         \n",
      " 1   tempo_experiencia   73005 non-null  object        \n",
      " 2   formacao            73005 non-null  object        \n",
      " 3   salario_min         73005 non-null  float64       \n",
      " 4   salario_max         73005 non-null  float64       \n",
      " 5   cidade              73005 non-null  object        \n",
      " 6   pais                73005 non-null  object        \n",
      " 7   tipo_trabalho       73005 non-null  object        \n",
      " 8   tamanho_empresa     73005 non-null  int64         \n",
      " 9   data_vaga           73005 non-null  datetime64[ns]\n",
      " 10  sexo                73005 non-null  object        \n",
      " 11  nome_recrutador     73005 non-null  object        \n",
      " 12  contato_recrutador  73005 non-null  object        \n",
      " 13  titulo_vaga         73005 non-null  object        \n",
      " 14  funcao              73005 non-null  object        \n",
      " 15  site_vaga           73005 non-null  object        \n",
      " 16  descricao_vaga      73005 non-null  object        \n",
      " 17  beneficios          73005 non-null  object        \n",
      " 18  requisitos          73005 non-null  object        \n",
      " 19  responsabilidades   73005 non-null  object        \n",
      " 20  empresa             73005 non-null  object        \n",
      "dtypes: datetime64[ns](1), float64(2), int64(2), object(16)\n",
      "memory usage: 11.7+ MB\n"
     ]
    }
   ],
   "source": [
    "df.info()"
   ]
  },
  {
   "cell_type": "code",
   "execution_count": 10,
   "id": "e3873a1f-fbd6-4eed-8894-30be5da684cc",
   "metadata": {},
   "outputs": [],
   "source": [
    "import warnings\n",
    "warnings.filterwarnings(\"ignore\")\n",
    "import requests\n",
    "from sqlalchemy import create_engine, text"
   ]
  },
  {
   "cell_type": "code",
   "execution_count": 25,
   "id": "f36540b6-809b-4067-ae4a-efdb75a8ae6b",
   "metadata": {},
   "outputs": [],
   "source": [
    "user = 'root'\n",
    "password = 'Fft270192!'\n",
    "host = 'localhost'\n",
    "string_conexao = f'mysql://{user}:{password}@{host}'\n",
    "\n",
    "engine = create_engine(string_conexao)\n",
    "conn = engine.connect()"
   ]
  },
  {
   "cell_type": "code",
   "execution_count": 27,
   "id": "24081a73-1450-46ae-a0c7-d1f9cb6392f7",
   "metadata": {},
   "outputs": [
    {
     "data": {
      "text/plain": [
       "<sqlalchemy.engine.cursor.CursorResult at 0x1550d2e7d20>"
      ]
     },
     "execution_count": 27,
     "metadata": {},
     "output_type": "execute_result"
    }
   ],
   "source": [
    "with open(r\"C:\\Users\\felip\\OneDrive\\Área de Trabalho\\Pós Graduação - Ciência de Dados\\Projeto Aplicado\\MySQL\\Script_MySQL.sql\", 'r') as file:\n",
    "    query = file.read()\n",
    "conn.execute(text(query))"
   ]
  },
  {
   "cell_type": "code",
   "execution_count": 35,
   "id": "f8805577-2d26-485a-8722-03ce1e5aeabe",
   "metadata": {},
   "outputs": [
    {
     "data": {
      "text/plain": [
       "73005"
      ]
     },
     "execution_count": 35,
     "metadata": {},
     "output_type": "execute_result"
    }
   ],
   "source": [
    "df.to_sql('stg_vagas', con=conn, schema='vagas_emprego', if_exists='replace', index=False)"
   ]
  },
  {
   "cell_type": "code",
   "execution_count": 47,
   "id": "c4d88e14-8822-43f9-9faf-f8c712804551",
   "metadata": {},
   "outputs": [
    {
     "name": "stdout",
     "output_type": "stream",
     "text": [
      "               cidade        pais\n",
      "21            Nairobi       Kenya\n",
      "24           Chisinau     Moldova\n",
      "27             London          UK\n",
      "46     Port-au-Prince       Haiti\n",
      "60         Georgetown      Guyana\n",
      "...               ...         ...\n",
      "73000       Stockholm      Sweden\n",
      "73001            Apia       Samoa\n",
      "73002         Mbabane    Eswatini\n",
      "73003    Antananarivo  Madagascar\n",
      "73004            Lima        Peru\n",
      "\n",
      "[72789 rows x 2 columns]\n"
     ]
    }
   ],
   "source": [
    "regiaoVaga = df[['cidade', 'pais']]\n",
    "\n",
    "duplicatas = regiaoVaga.duplicated()\n",
    "\n",
    "# Exibir as linhas duplicadas\n",
    "duplicatas_linhas = regiaoVaga[duplicatas]\n",
    "print(duplicatas_linhas)"
   ]
  },
  {
   "cell_type": "code",
   "execution_count": 49,
   "id": "2f3aaded-d6e4-4401-b05f-f0fa01f9c198",
   "metadata": {},
   "outputs": [
    {
     "name": "stdout",
     "output_type": "stream",
     "text": [
      "Número de linhas duplicadas: 72789\n"
     ]
    }
   ],
   "source": [
    "num_duplicatas = regiaoVaga.duplicated().sum()\n",
    "print(f\"Número de linhas duplicadas: {num_duplicatas}\")"
   ]
  },
  {
   "cell_type": "code",
   "execution_count": 55,
   "id": "d6db9a8e-320e-487c-abf9-56cb9571419f",
   "metadata": {},
   "outputs": [
    {
     "data": {
      "text/html": [
       "<div>\n",
       "<style scoped>\n",
       "    .dataframe tbody tr th:only-of-type {\n",
       "        vertical-align: middle;\n",
       "    }\n",
       "\n",
       "    .dataframe tbody tr th {\n",
       "        vertical-align: top;\n",
       "    }\n",
       "\n",
       "    .dataframe thead th {\n",
       "        text-align: right;\n",
       "    }\n",
       "</style>\n",
       "<table border=\"1\" class=\"dataframe\">\n",
       "  <thead>\n",
       "    <tr style=\"text-align: right;\">\n",
       "      <th></th>\n",
       "      <th>cidade</th>\n",
       "      <th>pais</th>\n",
       "      <th>id_regiaoVaga</th>\n",
       "    </tr>\n",
       "  </thead>\n",
       "  <tbody>\n",
       "    <tr>\n",
       "      <th>0</th>\n",
       "      <td>Yaounde</td>\n",
       "      <td>Cameroon</td>\n",
       "      <td>0</td>\n",
       "    </tr>\n",
       "    <tr>\n",
       "      <th>1</th>\n",
       "      <td>London</td>\n",
       "      <td>UK</td>\n",
       "      <td>1</td>\n",
       "    </tr>\n",
       "    <tr>\n",
       "      <th>2</th>\n",
       "      <td>Papeete</td>\n",
       "      <td>French Polynesia</td>\n",
       "      <td>2</td>\n",
       "    </tr>\n",
       "    <tr>\n",
       "      <th>3</th>\n",
       "      <td>George Town</td>\n",
       "      <td>Cayman Islands</td>\n",
       "      <td>3</td>\n",
       "    </tr>\n",
       "    <tr>\n",
       "      <th>4</th>\n",
       "      <td>Quito</td>\n",
       "      <td>Ecuador</td>\n",
       "      <td>4</td>\n",
       "    </tr>\n",
       "    <tr>\n",
       "      <th>...</th>\n",
       "      <td>...</td>\n",
       "      <td>...</td>\n",
       "      <td>...</td>\n",
       "    </tr>\n",
       "    <tr>\n",
       "      <th>1043</th>\n",
       "      <td>Bandar Seri Begawan</td>\n",
       "      <td>Brunei</td>\n",
       "      <td>1043</td>\n",
       "    </tr>\n",
       "    <tr>\n",
       "      <th>1080</th>\n",
       "      <td>Pristina</td>\n",
       "      <td>Kosovo</td>\n",
       "      <td>1080</td>\n",
       "    </tr>\n",
       "    <tr>\n",
       "      <th>1132</th>\n",
       "      <td>Praia</td>\n",
       "      <td>Cabo Verde</td>\n",
       "      <td>1132</td>\n",
       "    </tr>\n",
       "    <tr>\n",
       "      <th>1145</th>\n",
       "      <td>Paris</td>\n",
       "      <td>France</td>\n",
       "      <td>1145</td>\n",
       "    </tr>\n",
       "    <tr>\n",
       "      <th>1458</th>\n",
       "      <td>Abuja</td>\n",
       "      <td>Nigeria</td>\n",
       "      <td>1458</td>\n",
       "    </tr>\n",
       "  </tbody>\n",
       "</table>\n",
       "<p>216 rows × 3 columns</p>\n",
       "</div>"
      ],
      "text/plain": [
       "                   cidade              pais  id_regiaoVaga\n",
       "0                 Yaounde          Cameroon              0\n",
       "1                  London                UK              1\n",
       "2                 Papeete  French Polynesia              2\n",
       "3             George Town    Cayman Islands              3\n",
       "4                   Quito           Ecuador              4\n",
       "...                   ...               ...            ...\n",
       "1043  Bandar Seri Begawan            Brunei           1043\n",
       "1080             Pristina            Kosovo           1080\n",
       "1132                Praia        Cabo Verde           1132\n",
       "1145                Paris            France           1145\n",
       "1458                Abuja           Nigeria           1458\n",
       "\n",
       "[216 rows x 3 columns]"
      ]
     },
     "execution_count": 55,
     "metadata": {},
     "output_type": "execute_result"
    }
   ],
   "source": [
    "regiaoVaga = regiaoVaga.drop_duplicates()\n",
    "regiaoVaga['id_regiaoVaga'] = regiaoVaga.index\n",
    "regiaoVaga"
   ]
  },
  {
   "cell_type": "code",
   "execution_count": 57,
   "id": "f39ca99e-5852-41fb-886e-072503cf5187",
   "metadata": {},
   "outputs": [
    {
     "name": "stdout",
     "output_type": "stream",
     "text": [
      "      tipo_trabalho               titulo_vaga                        funcao  \\\n",
      "54         Contract         Marketing Analyst                  Data Analyst   \n",
      "76         Contract     Systems Administrator        Database Administrator   \n",
      "81         Contract    Database Administrator            Database Developer   \n",
      "97           Intern         Marketing Analyst                  Data Analyst   \n",
      "106       Full-Time              Data Analyst                Data Scientist   \n",
      "...             ...                       ...                           ...   \n",
      "73000     Full-Time              Data Analyst                Data Scientist   \n",
      "73001     Temporary    Database Administrator  Database Security Specialist   \n",
      "73002     Part-Time         Marketing Analyst                  Data Analyst   \n",
      "73003     Temporary         Marketing Analyst                  Data Analyst   \n",
      "73004     Temporary  Administrative Assistant         Data Entry Specialist   \n",
      "\n",
      "                                          descricao_vaga            site_vaga  \\\n",
      "54     Analyze data sets, generate insights, and prov...             The Muse   \n",
      "76     Database Administrators manage databases, ensu...      Internships.com   \n",
      "81     A Database Developer designs, develops, and ma...  Stack Overflow Jobs   \n",
      "97     Analyze data sets, generate insights, and prov...             FlexJobs   \n",
      "106    Data Scientists use their expertise in data an...             The Muse   \n",
      "...                                                  ...                  ...   \n",
      "73000  Data Scientists use their expertise in data an...          SimplyHired   \n",
      "73001  A Database Security Specialist focuses on prot...         Jobs2Careers   \n",
      "73002  Analyze data sets, generate insights, and prov...                 Dice   \n",
      "73003  Analyze data sets, generate insights, and prov...         Jobs2Careers   \n",
      "73004  Accurately input and maintain data in database...      Internships.com   \n",
      "\n",
      "                                              requisitos  \\\n",
      "54     Data analysis tools (e.g., SQL, Python) Data v...   \n",
      "76     Database management systems (e.g., MySQL, Orac...   \n",
      "81     Database design and development SQL and databa...   \n",
      "97     Data analysis tools (e.g., SQL, Python) Data v...   \n",
      "106    Machine learning algorithms and libraries (e.g...   \n",
      "...                                                  ...   \n",
      "73000  Machine learning algorithms and libraries (e.g...   \n",
      "73001  Database security measures Data encryption and...   \n",
      "73002  Data analysis tools (e.g., SQL, Python) Data v...   \n",
      "73003  Data analysis tools (e.g., SQL, Python) Data v...   \n",
      "73004  Data entry accuracy and speed Database softwar...   \n",
      "\n",
      "                                       responsabilidades  \n",
      "54     Analyze marketing data to measure campaign per...  \n",
      "76     Administer and optimize databases, ensuring da...  \n",
      "81     Design and implement database systems, tables,...  \n",
      "97     Analyze marketing data to measure campaign per...  \n",
      "106    Apply machine learning algorithms and statisti...  \n",
      "...                                                  ...  \n",
      "73000  Apply machine learning algorithms and statisti...  \n",
      "73001  Implement and maintain security measures to pr...  \n",
      "73002  Analyze marketing data to measure campaign per...  \n",
      "73003  Analyze marketing data to measure campaign per...  \n",
      "73004  Accurately enter and maintain data in database...  \n",
      "\n",
      "[71805 rows x 7 columns]\n"
     ]
    }
   ],
   "source": [
    "infosVaga = df[['tipo_trabalho', 'titulo_vaga', 'funcao', 'descricao_vaga', 'site_vaga', 'requisitos', 'responsabilidades']]\n",
    "\n",
    "duplicatas = infosVaga.duplicated()\n",
    "\n",
    "# Exibir as linhas duplicadas\n",
    "duplicatas_linhas = infosVaga[duplicatas]\n",
    "print(duplicatas_linhas)"
   ]
  },
  {
   "cell_type": "code",
   "execution_count": 61,
   "id": "5c1eb643-d60b-4998-992f-67b66b7560a4",
   "metadata": {},
   "outputs": [
    {
     "name": "stdout",
     "output_type": "stream",
     "text": [
      "Número de linhas duplicadas: 71805\n"
     ]
    }
   ],
   "source": [
    "num_duplicatas = infosVaga.duplicated().sum()\n",
    "print(f\"Número de linhas duplicadas: {num_duplicatas}\")"
   ]
  },
  {
   "cell_type": "code",
   "execution_count": 63,
   "id": "872fabe2-ed5c-41da-9c3c-558f42d1d678",
   "metadata": {},
   "outputs": [
    {
     "data": {
      "text/html": [
       "<div>\n",
       "<style scoped>\n",
       "    .dataframe tbody tr th:only-of-type {\n",
       "        vertical-align: middle;\n",
       "    }\n",
       "\n",
       "    .dataframe tbody tr th {\n",
       "        vertical-align: top;\n",
       "    }\n",
       "\n",
       "    .dataframe thead th {\n",
       "        text-align: right;\n",
       "    }\n",
       "</style>\n",
       "<table border=\"1\" class=\"dataframe\">\n",
       "  <thead>\n",
       "    <tr style=\"text-align: right;\">\n",
       "      <th></th>\n",
       "      <th>tipo_trabalho</th>\n",
       "      <th>titulo_vaga</th>\n",
       "      <th>funcao</th>\n",
       "      <th>descricao_vaga</th>\n",
       "      <th>site_vaga</th>\n",
       "      <th>requisitos</th>\n",
       "      <th>responsabilidades</th>\n",
       "      <th>id_infosVaga</th>\n",
       "    </tr>\n",
       "  </thead>\n",
       "  <tbody>\n",
       "    <tr>\n",
       "      <th>0</th>\n",
       "      <td>Temporary</td>\n",
       "      <td>Database Administrator</td>\n",
       "      <td>Database Developer</td>\n",
       "      <td>A Database Developer designs, develops, and ma...</td>\n",
       "      <td>CareerBuilder</td>\n",
       "      <td>Database design and development SQL and databa...</td>\n",
       "      <td>Design and implement database systems, tables,...</td>\n",
       "      <td>0</td>\n",
       "    </tr>\n",
       "    <tr>\n",
       "      <th>1</th>\n",
       "      <td>Intern</td>\n",
       "      <td>Data Engineer</td>\n",
       "      <td>Data Architect</td>\n",
       "      <td>A Data Architect designs and manages data infr...</td>\n",
       "      <td>Indeed</td>\n",
       "      <td>Data architecture design Database management s...</td>\n",
       "      <td>Design data architecture and systems to meet b...</td>\n",
       "      <td>1</td>\n",
       "    </tr>\n",
       "    <tr>\n",
       "      <th>2</th>\n",
       "      <td>Part-Time</td>\n",
       "      <td>Database Developer</td>\n",
       "      <td>SQL Database Developer</td>\n",
       "      <td>SQL Database Developers design, implement, and...</td>\n",
       "      <td>Dice</td>\n",
       "      <td>SQL (Structured Query Language) Database desig...</td>\n",
       "      <td>Design, develop, and maintain SQL databases, e...</td>\n",
       "      <td>2</td>\n",
       "    </tr>\n",
       "    <tr>\n",
       "      <th>3</th>\n",
       "      <td>Part-Time</td>\n",
       "      <td>Database Administrator</td>\n",
       "      <td>Database Developer</td>\n",
       "      <td>A Database Developer designs, develops, and ma...</td>\n",
       "      <td>SimplyHired</td>\n",
       "      <td>Database design and development SQL and databa...</td>\n",
       "      <td>Design and implement database systems, tables,...</td>\n",
       "      <td>3</td>\n",
       "    </tr>\n",
       "    <tr>\n",
       "      <th>4</th>\n",
       "      <td>Contract</td>\n",
       "      <td>Data Engineer</td>\n",
       "      <td>Big Data Engineer</td>\n",
       "      <td>A Big Data Engineer develops and manages big d...</td>\n",
       "      <td>Idealist</td>\n",
       "      <td>Big data technologies (Hadoop, Spark, etc.) Da...</td>\n",
       "      <td>Work with large and complex datasets, using te...</td>\n",
       "      <td>4</td>\n",
       "    </tr>\n",
       "    <tr>\n",
       "      <th>...</th>\n",
       "      <td>...</td>\n",
       "      <td>...</td>\n",
       "      <td>...</td>\n",
       "      <td>...</td>\n",
       "      <td>...</td>\n",
       "      <td>...</td>\n",
       "      <td>...</td>\n",
       "      <td>...</td>\n",
       "    </tr>\n",
       "    <tr>\n",
       "      <th>11133</th>\n",
       "      <td>Intern</td>\n",
       "      <td>Research Analyst</td>\n",
       "      <td>Data Analyst Researcher</td>\n",
       "      <td>A Data Analyst Researcher conducts research an...</td>\n",
       "      <td>Dice</td>\n",
       "      <td>Data analysis techniques Research methodologie...</td>\n",
       "      <td>Focus on data analysis, data mining, and stati...</td>\n",
       "      <td>11133</td>\n",
       "    </tr>\n",
       "    <tr>\n",
       "      <th>11963</th>\n",
       "      <td>Intern</td>\n",
       "      <td>Data Analyst</td>\n",
       "      <td>Data Quality Analyst</td>\n",
       "      <td>Data Quality Analysts ensure the accuracy, com...</td>\n",
       "      <td>LinkedIn</td>\n",
       "      <td>Data quality assessment and improvement Data p...</td>\n",
       "      <td>Ensure data accuracy and quality by identifyin...</td>\n",
       "      <td>11963</td>\n",
       "    </tr>\n",
       "    <tr>\n",
       "      <th>13048</th>\n",
       "      <td>Temporary</td>\n",
       "      <td>Research Analyst</td>\n",
       "      <td>Data Analyst Researcher</td>\n",
       "      <td>A Data Analyst Researcher conducts research an...</td>\n",
       "      <td>Indeed</td>\n",
       "      <td>Data analysis techniques Research methodologie...</td>\n",
       "      <td>Focus on data analysis, data mining, and stati...</td>\n",
       "      <td>13048</td>\n",
       "    </tr>\n",
       "    <tr>\n",
       "      <th>13773</th>\n",
       "      <td>Contract</td>\n",
       "      <td>Data Scientist</td>\n",
       "      <td>Data Engineer</td>\n",
       "      <td>Data Engineers design and maintain data pipeli...</td>\n",
       "      <td>Monster</td>\n",
       "      <td>Data integration ETL (Extract, Transform, Load...</td>\n",
       "      <td>Design, build, and maintain data pipelines and...</td>\n",
       "      <td>13773</td>\n",
       "    </tr>\n",
       "    <tr>\n",
       "      <th>14099</th>\n",
       "      <td>Intern</td>\n",
       "      <td>Database Developer</td>\n",
       "      <td>NoSQL Database Engineer</td>\n",
       "      <td>NoSQL Database Engineers work with non-relatio...</td>\n",
       "      <td>Glassdoor</td>\n",
       "      <td>NoSQL databases (e.g., MongoDB, Cassandra) Dat...</td>\n",
       "      <td>Work with NoSQL databases like MongoDB or Cass...</td>\n",
       "      <td>14099</td>\n",
       "    </tr>\n",
       "  </tbody>\n",
       "</table>\n",
       "<p>1200 rows × 8 columns</p>\n",
       "</div>"
      ],
      "text/plain": [
       "      tipo_trabalho             titulo_vaga                   funcao  \\\n",
       "0         Temporary  Database Administrator       Database Developer   \n",
       "1            Intern           Data Engineer           Data Architect   \n",
       "2         Part-Time      Database Developer   SQL Database Developer   \n",
       "3         Part-Time  Database Administrator       Database Developer   \n",
       "4          Contract           Data Engineer        Big Data Engineer   \n",
       "...             ...                     ...                      ...   \n",
       "11133        Intern        Research Analyst  Data Analyst Researcher   \n",
       "11963        Intern            Data Analyst     Data Quality Analyst   \n",
       "13048     Temporary        Research Analyst  Data Analyst Researcher   \n",
       "13773      Contract          Data Scientist            Data Engineer   \n",
       "14099        Intern      Database Developer  NoSQL Database Engineer   \n",
       "\n",
       "                                          descricao_vaga      site_vaga  \\\n",
       "0      A Database Developer designs, develops, and ma...  CareerBuilder   \n",
       "1      A Data Architect designs and manages data infr...         Indeed   \n",
       "2      SQL Database Developers design, implement, and...           Dice   \n",
       "3      A Database Developer designs, develops, and ma...    SimplyHired   \n",
       "4      A Big Data Engineer develops and manages big d...       Idealist   \n",
       "...                                                  ...            ...   \n",
       "11133  A Data Analyst Researcher conducts research an...           Dice   \n",
       "11963  Data Quality Analysts ensure the accuracy, com...       LinkedIn   \n",
       "13048  A Data Analyst Researcher conducts research an...         Indeed   \n",
       "13773  Data Engineers design and maintain data pipeli...        Monster   \n",
       "14099  NoSQL Database Engineers work with non-relatio...      Glassdoor   \n",
       "\n",
       "                                              requisitos  \\\n",
       "0      Database design and development SQL and databa...   \n",
       "1      Data architecture design Database management s...   \n",
       "2      SQL (Structured Query Language) Database desig...   \n",
       "3      Database design and development SQL and databa...   \n",
       "4      Big data technologies (Hadoop, Spark, etc.) Da...   \n",
       "...                                                  ...   \n",
       "11133  Data analysis techniques Research methodologie...   \n",
       "11963  Data quality assessment and improvement Data p...   \n",
       "13048  Data analysis techniques Research methodologie...   \n",
       "13773  Data integration ETL (Extract, Transform, Load...   \n",
       "14099  NoSQL databases (e.g., MongoDB, Cassandra) Dat...   \n",
       "\n",
       "                                       responsabilidades  id_infosVaga  \n",
       "0      Design and implement database systems, tables,...             0  \n",
       "1      Design data architecture and systems to meet b...             1  \n",
       "2      Design, develop, and maintain SQL databases, e...             2  \n",
       "3      Design and implement database systems, tables,...             3  \n",
       "4      Work with large and complex datasets, using te...             4  \n",
       "...                                                  ...           ...  \n",
       "11133  Focus on data analysis, data mining, and stati...         11133  \n",
       "11963  Ensure data accuracy and quality by identifyin...         11963  \n",
       "13048  Focus on data analysis, data mining, and stati...         13048  \n",
       "13773  Design, build, and maintain data pipelines and...         13773  \n",
       "14099  Work with NoSQL databases like MongoDB or Cass...         14099  \n",
       "\n",
       "[1200 rows x 8 columns]"
      ]
     },
     "execution_count": 63,
     "metadata": {},
     "output_type": "execute_result"
    }
   ],
   "source": [
    "infosVaga = infosVaga.drop_duplicates()\n",
    "infosVaga['id_infosVaga'] = infosVaga.index\n",
    "infosVaga"
   ]
  },
  {
   "cell_type": "code",
   "execution_count": 67,
   "id": "12623838-0f27-40cf-8625-7295c4674d78",
   "metadata": {},
   "outputs": [
    {
     "data": {
      "text/plain": [
       "1200"
      ]
     },
     "execution_count": 67,
     "metadata": {},
     "output_type": "execute_result"
    }
   ],
   "source": [
    "infosVaga.to_sql('dim_infosVaga', con=conn, schema='vagas_emprego', if_exists='replace', index=False)"
   ]
  },
  {
   "cell_type": "code",
   "execution_count": 69,
   "id": "6ac0303a-88f6-4b9e-9c01-32b8164ba4ef",
   "metadata": {},
   "outputs": [
    {
     "data": {
      "text/plain": [
       "216"
      ]
     },
     "execution_count": 69,
     "metadata": {},
     "output_type": "execute_result"
    }
   ],
   "source": [
    "regiaoVaga.to_sql('dim_regiaovaga', con=conn, schema = 'vagas_emprego', if_exists='replace', index=False)"
   ]
  },
  {
   "cell_type": "code",
   "execution_count": null,
   "id": "13e22711-293f-4c04-a673-004a016f4938",
   "metadata": {},
   "outputs": [],
   "source": []
  }
 ],
 "metadata": {
  "kernelspec": {
   "display_name": "Python 3 (ipykernel)",
   "language": "python",
   "name": "python3"
  },
  "language_info": {
   "codemirror_mode": {
    "name": "ipython",
    "version": 3
   },
   "file_extension": ".py",
   "mimetype": "text/x-python",
   "name": "python",
   "nbconvert_exporter": "python",
   "pygments_lexer": "ipython3",
   "version": "3.11.7"
  }
 },
 "nbformat": 4,
 "nbformat_minor": 5
}
